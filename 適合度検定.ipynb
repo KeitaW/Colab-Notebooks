{
  "nbformat": 4,
  "nbformat_minor": 0,
  "metadata": {
    "colab": {
      "name": "適合度検定.ipynb",
      "provenance": [],
      "collapsed_sections": [],
      "authorship_tag": "ABX9TyMWsgEGhxN8ab2Tv402ji+P",
      "include_colab_link": true
    },
    "kernelspec": {
      "name": "python3",
      "display_name": "Python 3"
    }
  },
  "cells": [
    {
      "cell_type": "markdown",
      "metadata": {
        "id": "view-in-github",
        "colab_type": "text"
      },
      "source": [
        "<a href=\"https://colab.research.google.com/github/KeitaW/Colab-Notebooks/blob/master/%E9%81%A9%E5%90%88%E5%BA%A6%E6%A4%9C%E5%AE%9A.ipynb\" target=\"_parent\"><img src=\"https://colab.research.google.com/assets/colab-badge.svg\" alt=\"Open In Colab\"/></a>"
      ]
    },
    {
      "cell_type": "code",
      "metadata": {
        "id": "W7PRSuunq7bS"
      },
      "source": [
        "import numpy as np\n",
        "import matplotlib.pyplot as plt\n",
        "import pandas as pd\n",
        "from scipy.stats import chisquare, poisson"
      ],
      "execution_count": 10,
      "outputs": []
    },
    {
      "cell_type": "markdown",
      "metadata": {
        "id": "FGs9EqxMtMuD"
      },
      "source": [
        "## ケース　1： 地震\n",
        "大地震の月別の発生回数が一様分布に従うかを適合度検定によって調べる"
      ]
    },
    {
      "cell_type": "code",
      "metadata": {
        "id": "5e5pexv9r9jZ"
      },
      "source": [
        "nankai_df = pd.DataFrame({\n",
        "    \"month\": np.arange(1, 13),\n",
        "    \"frequency\": [0, 2, 0, 0, 0, 0, 0, 2, 1, 1, 1, 5]\n",
        "})"
      ],
      "execution_count": null,
      "outputs": []
    },
    {
      "cell_type": "code",
      "metadata": {
        "colab": {
          "base_uri": "https://localhost:8080/",
          "height": 300
        },
        "id": "QZRqiYTns-y0",
        "outputId": "1a818c06-11d1-48e2-f792-f1de66dc69ae"
      },
      "source": [
        "nankai_df.plot(x=\"month\", y=\"frequency\", kind=\"bar\")"
      ],
      "execution_count": null,
      "outputs": [
        {
          "output_type": "execute_result",
          "data": {
            "text/plain": [
              "<matplotlib.axes._subplots.AxesSubplot at 0x7f20b9daaa20>"
            ]
          },
          "metadata": {
            "tags": []
          },
          "execution_count": 8
        },
        {
          "output_type": "display_data",
          "data": {
            "image/png": "[encoded data removed]",
            "text/plain": [
              "<Figure size 432x288 with 1 Axes>"
            ]
          },
          "metadata": {
            "tags": [],
            "needs_background": "light"
          }
        }
      ]
    },
    {
      "cell_type": "code",
      "metadata": {
        "colab": {
          "base_uri": "https://localhost:8080/"
        },
        "id": "3w8sJECptRGE",
        "outputId": "8203789a-04f1-4da9-8e77-911ebd29c679"
      },
      "source": [
        "chisquare(f_obs=nankai_df.frequency)"
      ],
      "execution_count": null,
      "outputs": [
        {
          "output_type": "execute_result",
          "data": {
            "text/plain": [
              "Power_divergenceResult(statistic=24.0, pvalue=0.012733203282309948)"
            ]
          },
          "metadata": {
            "tags": []
          },
          "execution_count": 10
        }
      ]
    },
    {
      "cell_type": "code",
      "metadata": {
        "colab": {
          "base_uri": "https://localhost:8080/"
        },
        "id": "kp-Rd2XxuNoi",
        "outputId": "0c63eaa3-338e-4e1f-e217-dc083aeeb3f1"
      },
      "source": [
        "chisquare(\n",
        "    f_obs=nankai_df.frequency,\n",
        "    f_exp=(nankai_df.frequency.sum() / len(nankai_df.frequency)) * np.ones_like(nankai_df.frequency)\n",
        ")"
      ],
      "execution_count": null,
      "outputs": [
        {
          "output_type": "execute_result",
          "data": {
            "text/plain": [
              "Power_divergenceResult(statistic=24.0, pvalue=0.012733203282309948)"
            ]
          },
          "metadata": {
            "tags": []
          },
          "execution_count": 21
        }
      ]
    },
    {
      "cell_type": "markdown",
      "metadata": {
        "id": "JEMlbku_t0Fq"
      },
      "source": [
        "このことはもし、地震がどの月でも同じ確率で発生する場合に観測データが得られる確率が約$1.27$%であることを示す。\n",
        "statistic=24.0はχ二乗値が24以上であるという意味であり、「ズレの大きさ」を表す。"
      ]
    },
    {
      "cell_type": "markdown",
      "metadata": {
        "id": "1HORojTrvqDj"
      },
      "source": [
        "## ケース２： 年間航空機事故数\n",
        "年間の航空事故の回数と該当する年の数を表した以下のデータが、ポアソン分布に従っているかを適合度検定により求める。"
      ]
    },
    {
      "cell_type": "code",
      "metadata": {
        "id": "XOqVRZJBv9nU"
      },
      "source": [
        "aviation_accident_df = pd.DataFrame({\n",
        "    \"n_accident\": np.arange(9),\n",
        "    \"n_years\": [1, 6, 6, 8, 5, 7, 0, 1, 0]\n",
        "})"
      ],
      "execution_count": 5,
      "outputs": []
    },
    {
      "cell_type": "code",
      "metadata": {
        "colab": {
          "base_uri": "https://localhost:8080/",
          "height": 306
        },
        "id": "fF3vlXH3v1E_",
        "outputId": "06ec0985-9f23-4e25-e82d-c593f9f2a7d8"
      },
      "source": [
        "aviation_accident_df"
      ],
      "execution_count": 6,
      "outputs": [
        {
          "output_type": "execute_result",
          "data": {
            "text/html": [
              "<div>\n",
              "<style scoped>\n",
              "    .dataframe tbody tr th:only-of-type {\n",
              "        vertical-align: middle;\n",
              "    }\n",
              "\n",
              "    .dataframe tbody tr th {\n",
              "        vertical-align: top;\n",
              "    }\n",
              "\n",
              "    .dataframe thead th {\n",
              "        text-align: right;\n",
              "    }\n",
              "</style>\n",
              "<table border=\"1\" class=\"dataframe\">\n",
              "  <thead>\n",
              "    <tr style=\"text-align: right;\">\n",
              "      <th></th>\n",
              "      <th>n_accident</th>\n",
              "      <th>n_years</th>\n",
              "    </tr>\n",
              "  </thead>\n",
              "  <tbody>\n",
              "    <tr>\n",
              "      <th>0</th>\n",
              "      <td>0</td>\n",
              "      <td>1</td>\n",
              "    </tr>\n",
              "    <tr>\n",
              "      <th>1</th>\n",
              "      <td>1</td>\n",
              "      <td>6</td>\n",
              "    </tr>\n",
              "    <tr>\n",
              "      <th>2</th>\n",
              "      <td>2</td>\n",
              "      <td>6</td>\n",
              "    </tr>\n",
              "    <tr>\n",
              "      <th>3</th>\n",
              "      <td>3</td>\n",
              "      <td>8</td>\n",
              "    </tr>\n",
              "    <tr>\n",
              "      <th>4</th>\n",
              "      <td>4</td>\n",
              "      <td>5</td>\n",
              "    </tr>\n",
              "    <tr>\n",
              "      <th>5</th>\n",
              "      <td>5</td>\n",
              "      <td>7</td>\n",
              "    </tr>\n",
              "    <tr>\n",
              "      <th>6</th>\n",
              "      <td>6</td>\n",
              "      <td>0</td>\n",
              "    </tr>\n",
              "    <tr>\n",
              "      <th>7</th>\n",
              "      <td>7</td>\n",
              "      <td>1</td>\n",
              "    </tr>\n",
              "    <tr>\n",
              "      <th>8</th>\n",
              "      <td>8</td>\n",
              "      <td>0</td>\n",
              "    </tr>\n",
              "  </tbody>\n",
              "</table>\n",
              "</div>"
            ],
            "text/plain": [
              "   n_accident  n_years\n",
              "0           0        1\n",
              "1           1        6\n",
              "2           2        6\n",
              "3           3        8\n",
              "4           4        5\n",
              "5           5        7\n",
              "6           6        0\n",
              "7           7        1\n",
              "8           8        0"
            ]
          },
          "metadata": {
            "tags": []
          },
          "execution_count": 6
        }
      ]
    },
    {
      "cell_type": "code",
      "metadata": {
        "id": "TKeGT-WhwGwq"
      },
      "source": [
        "mean_n_accident = (aviation_accident_df.n_accident * aviation_accident_df.n_years).sum() / aviation_accident_df.n_years.sum()"
      ],
      "execution_count": 8,
      "outputs": []
    },
    {
      "cell_type": "code",
      "metadata": {
        "colab": {
          "base_uri": "https://localhost:8080/"
        },
        "id": "E5hBnJbBwb4y",
        "outputId": "cf96e32b-274a-42f6-ce6f-ce83d80f6ac9"
      },
      "source": [
        "mean_n_accident"
      ],
      "execution_count": 9,
      "outputs": [
        {
          "output_type": "execute_result",
          "data": {
            "text/plain": [
              "3.0588235294117645"
            ]
          },
          "metadata": {
            "tags": []
          },
          "execution_count": 9
        }
      ]
    },
    {
      "cell_type": "markdown",
      "metadata": {
        "id": "5lyA4nS5yV5K"
      },
      "source": [
        "平均$\\mu$が`mean_n_accident`であるとき$k=0, 1, \\dots, 8$に対する$P(X=k)$の値は以下の通り\n"
      ]
    },
    {
      "cell_type": "code",
      "metadata": {
        "colab": {
          "base_uri": "https://localhost:8080/",
          "height": 282
        },
        "id": "Qv-aHb_AwfGJ",
        "outputId": "8f0f91a3-675a-4eda-efd0-7c88c76b6303"
      },
      "source": [
        "plt.plot(poisson.pmf(k=np.arange(9), mu=mean_n_accident))"
      ],
      "execution_count": 13,
      "outputs": [
        {
          "output_type": "execute_result",
          "data": {
            "text/plain": [
              "[<matplotlib.lines.Line2D at 0x7f0a6d971f10>]"
            ]
          },
          "metadata": {
            "tags": []
          },
          "execution_count": 13
        },
        {
          "output_type": "display_data",
          "data": {
            "image/png": "[encoded data removed]",
            "text/plain": [
              "<Figure size 432x288 with 1 Axes>"
            ]
          },
          "metadata": {
            "tags": [],
            "needs_background": "light"
          }
        }
      ]
    },
    {
      "cell_type": "markdown",
      "metadata": {
        "id": "PGdJZ-JyyNmD"
      },
      "source": [
        "ポアソン分布の場合は、$k$をどこまでで打ち切るかという問題が生ずる。実際には無限回の事故は考えられないため。\n"
      ]
    },
    {
      "cell_type": "markdown",
      "metadata": {
        "id": "yMkrW01UzN8A"
      },
      "source": [
        "### ケースI データ中の8回を8回以上と解釈した場合"
      ]
    },
    {
      "cell_type": "code",
      "metadata": {
        "colab": {
          "base_uri": "https://localhost:8080/",
          "height": 282
        },
        "id": "Ea7KnVlozqCi",
        "outputId": "abaab4b4-f7f7-43ca-b0a6-7814fe0827e0"
      },
      "source": [
        "poisprob = poisson.pmf(np.arange(8), mu=mean_n_accident)\n",
        "theory = np.append(poisprob, 1-np.sum(poisprob))\n",
        "plt.plot(theory)"
      ],
      "execution_count": 21,
      "outputs": [
        {
          "output_type": "execute_result",
          "data": {
            "text/plain": [
              "[<matplotlib.lines.Line2D at 0x7f0a6dbad350>]"
            ]
          },
          "metadata": {
            "tags": []
          },
          "execution_count": 21
        },
        {
          "output_type": "display_data",
          "data": {
            "image/png": "[encoded data removed]",
            "text/plain": [
              "<Figure size 432x288 with 1 Axes>"
            ]
          },
          "metadata": {
            "tags": [],
            "needs_background": "light"
          }
        }
      ]
    },
    {
      "cell_type": "code",
      "metadata": {
        "colab": {
          "base_uri": "https://localhost:8080/",
          "height": 282
        },
        "id": "2vhzSj404gaD",
        "outputId": "04a0228d-4a57-43cf-d012-25df697c8e0f"
      },
      "source": [
        "plt.plot(aviation_accident_df.n_years/aviation_accident_df.n_years.sum())"
      ],
      "execution_count": 25,
      "outputs": [
        {
          "output_type": "execute_result",
          "data": {
            "text/plain": [
              "[<matplotlib.lines.Line2D at 0x7f0a68af2150>]"
            ]
          },
          "metadata": {
            "tags": []
          },
          "execution_count": 25
        },
        {
          "output_type": "display_data",
          "data": {
            "image/png": "[encoded data removed]",
            "text/plain": [
              "<Figure size 432x288 with 1 Axes>"
            ]
          },
          "metadata": {
            "tags": [],
            "needs_background": "light"
          }
        }
      ]
    },
    {
      "cell_type": "code",
      "metadata": {
        "colab": {
          "base_uri": "https://localhost:8080/"
        },
        "id": "Jh2Jh5fuz8Ka",
        "outputId": "ba254a40-df32-4ffa-c5a0-73027c7d8740"
      },
      "source": [
        "chisquare(f_obs=aviation_accident_df.n_years, f_exp=theory)"
      ],
      "execution_count": 26,
      "outputs": [
        {
          "output_type": "execute_result",
          "data": {
            "text/plain": [
              "Power_divergenceResult(statistic=1311.3979647037704, pvalue=8.081667503230342e-278)"
            ]
          },
          "metadata": {
            "tags": []
          },
          "execution_count": 26
        }
      ]
    },
    {
      "cell_type": "code",
      "metadata": {
        "colab": {
          "base_uri": "https://localhost:8080/"
        },
        "id": "K88tTTGn35lt",
        "outputId": "597ea625-403c-4c59-9bdd-aab46a1d9457"
      },
      "source": [
        "chisquare(f_obs=aviation_accident_df.n_years, f_exp=poisson.pmf(k=np.arange(9), mu=mean_n_accident))"
      ],
      "execution_count": 22,
      "outputs": [
        {
          "output_type": "execute_result",
          "data": {
            "text/plain": [
              "Power_divergenceResult(statistic=1311.393661269225, pvalue=8.098996077993248e-278)"
            ]
          },
          "metadata": {
            "tags": []
          },
          "execution_count": 22
        }
      ]
    },
    {
      "cell_type": "code",
      "metadata": {
        "id": "ty8e8c5w4KXE"
      },
      "source": [
        "# "
      ],
      "execution_count": null,
      "outputs": []
    },
    {
      "cell_type": "code",
      "metadata": {
        "id": "pA7JhYeS4LP0"
      },
      "source": [
        ""
      ],
      "execution_count": null,
      "outputs": []
    },
    {
      "cell_type": "code",
      "metadata": {
        "id": "Z8hMhVYs4MNt"
      },
      "source": [
        ""
      ],
      "execution_count": null,
      "outputs": []
    },
    {
      "cell_type": "code",
      "metadata": {
        "id": "VLTfTaNj4Md2"
      },
      "source": [
        ""
      ],
      "execution_count": null,
      "outputs": []
    },
    {
      "cell_type": "code",
      "metadata": {
        "id": "EwiQPwVG4MuE"
      },
      "source": [
        ""
      ],
      "execution_count": null,
      "outputs": []
    }
  ]
}