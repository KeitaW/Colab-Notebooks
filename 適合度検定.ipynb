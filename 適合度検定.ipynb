{
  "nbformat": 4,
  "nbformat_minor": 0,
  "metadata": {
    "colab": {
      "name": "適合度検定.ipynb",
      "provenance": [],
      "collapsed_sections": [],
      "authorship_tag": "ABX9TyPi4hfPCsC08Jp4B/6oJNV3",
      "include_colab_link": true
    },
    "kernelspec": {
      "name": "python3",
      "display_name": "Python 3"
    }
  },
  "cells": [
    {
      "cell_type": "markdown",
      "metadata": {
        "id": "view-in-github",
        "colab_type": "text"
      },
      "source": [
        "<a href=\"https://colab.research.google.com/github/KeitaW/Colab-Notebooks/blob/master/%E9%81%A9%E5%90%88%E5%BA%A6%E6%A4%9C%E5%AE%9A.ipynb\" target=\"_parent\"><img src=\"https://colab.research.google.com/assets/colab-badge.svg\" alt=\"Open In Colab\"/></a>"
      ]
    },
    {
      "cell_type": "code",
      "metadata": {
        "id": "W7PRSuunq7bS"
      },
      "source": [
        "import numpy as np\n",
        "import matplotlib.pyplot as plt\n",
        "import pandas as pd\n",
        "from scipy.stats import chisquare"
      ],
      "execution_count": null,
      "outputs": []
    },
    {
      "cell_type": "code",
      "metadata": {
        "id": "5e5pexv9r9jZ"
      },
      "source": [
        "nankai_df = pd.DataFrame({\n",
        "    \"month\": np.arange(1, 13),\n",
        "    \"frequency\": [0, 2, 0, 0, 0, 0, 0, 2, 1, 1, 1, 5]\n",
        "})"
      ],
      "execution_count": null,
      "outputs": []
    },
    {
      "cell_type": "code",
      "metadata": {
        "colab": {
          "base_uri": "https://localhost:8080/",
          "height": 300
        },
        "id": "QZRqiYTns-y0",
        "outputId": "1a818c06-11d1-48e2-f792-f1de66dc69ae"
      },
      "source": [
        "nankai_df.plot(x=\"month\", y=\"frequency\", kind=\"bar\")"
      ],
      "execution_count": null,
      "outputs": [
        {
          "output_type": "execute_result",
          "data": {
            "text/plain": [
              "<matplotlib.axes._subplots.AxesSubplot at 0x7f20b9daaa20>"
            ]
          },
          "metadata": {
            "tags": []
          },
          "execution_count": 8
        },
        {
          "output_type": "display_data",
          "data": {
            "image/png": "[encoded data removed]",
            "text/plain": [
              "<Figure size 432x288 with 1 Axes>"
            ]
          },
          "metadata": {
            "tags": [],
            "needs_background": "light"
          }
        }
      ]
    },
    {
      "cell_type": "code",
      "metadata": {
        "colab": {
          "base_uri": "https://localhost:8080/"
        },
        "id": "3w8sJECptRGE",
        "outputId": "8203789a-04f1-4da9-8e77-911ebd29c679"
      },
      "source": [
        "chisquare(f_obs=nankai_df.frequency)"
      ],
      "execution_count": null,
      "outputs": [
        {
          "output_type": "execute_result",
          "data": {
            "text/plain": [
              "Power_divergenceResult(statistic=24.0, pvalue=0.012733203282309948)"
            ]
          },
          "metadata": {
            "tags": []
          },
          "execution_count": 10
        }
      ]
    },
    {
      "cell_type": "code",
      "metadata": {
        "colab": {
          "base_uri": "https://localhost:8080/"
        },
        "id": "kp-Rd2XxuNoi",
        "outputId": "0c63eaa3-338e-4e1f-e217-dc083aeeb3f1"
      },
      "source": [
        "chisquare(\n",
        "    f_obs=nankai_df.frequency,\n",
        "    f_exp=(nankai_df.frequency.sum() / len(nankai_df.frequency)) * np.ones_like(nankai_df.frequency)\n",
        ")"
      ],
      "execution_count": null,
      "outputs": [
        {
          "output_type": "execute_result",
          "data": {
            "text/plain": [
              "Power_divergenceResult(statistic=24.0, pvalue=0.012733203282309948)"
            ]
          },
          "metadata": {
            "tags": []
          },
          "execution_count": 21
        }
      ]
    },
    {
      "cell_type": "markdown",
      "metadata": {
        "id": "JEMlbku_t0Fq"
      },
      "source": [
        "このことはもし、地震がどの月でも同じ確率で発生する場合に観測データが得られる確率が約$1.27$%であることを示す。\n",
        "statistic=24.0はχ二乗値が24以上であるという意味であり、「ズレの大きさ」を表す。"
      ]
    },
    {
      "cell_type": "code",
      "metadata": {
        "id": "1HORojTrvqDj"
      },
      "source": [
        ""
      ],
      "execution_count": null,
      "outputs": []
    },
    {
      "cell_type": "markdown",
      "metadata": {
        "id": "XOqVRZJBv9nU"
      },
      "source": [
        ""
      ]
    }
  ]
}