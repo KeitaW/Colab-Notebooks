{
  "nbformat": 4,
  "nbformat_minor": 0,
  "metadata": {
    "colab": {
      "name": "210428_母比率の差の検定.ipynb",
      "provenance": [],
      "mount_file_id": "1QkhdwC1sC_fSwR1H467xGn-71uxmKhmu",
      "authorship_tag": "ABX9TyO5d5KzZ+zcHqInrV11iYD0",
      "include_colab_link": true
    },
    "kernelspec": {
      "name": "python3",
      "display_name": "Python 3"
    },
    "language_info": {
      "name": "python"
    }
  },
  "cells": [
    {
      "cell_type": "markdown",
      "metadata": {
        "id": "view-in-github",
        "colab_type": "text"
      },
      "source": [
        "<a href=\"https://colab.research.google.com/github/KeitaW/Colab-Notebooks/blob/master/210428_%E6%AF%8D%E6%AF%94%E7%8E%87%E3%81%AE%E5%B7%AE%E3%81%AE%E6%A4%9C%E5%AE%9A.ipynb\" target=\"_parent\"><img src=\"https://colab.research.google.com/assets/colab-badge.svg\" alt=\"Open In Colab\"/></a>"
      ]
    },
    {
      "cell_type": "markdown",
      "metadata": {
        "id": "jxd69oHCdbVk"
      },
      "source": [
        "https://medium.com/analytics-vidhya/testing-a-difference-in-population-proportions-in-python-89d57a06254\n",
        "のタイタニックデータセットを例とした、母比率の差の検定をやってみる"
      ]
    },
    {
      "cell_type": "code",
      "metadata": {
        "id": "aVQrVcjAZE3m"
      },
      "source": [
        "import pandas as pd\n",
        "import numpy as np\n",
        "import scipy.stats.distributions as dist"
      ],
      "execution_count": 4,
      "outputs": []
    },
    {
      "cell_type": "code",
      "metadata": {
        "id": "iwbiGJtJdDFE"
      },
      "source": [
        "titanic_df = pd.read_csv(\"/content/drive/MyDrive/Data/titanic/train.csv\")"
      ],
      "execution_count": 9,
      "outputs": []
    },
    {
      "cell_type": "code",
      "metadata": {
        "id": "Bt8eGOV9dWyi"
      },
      "source": [
        "titanic_df[\"Survived\"] = titanic_df[\"Survived\"].map({1: \"Survived\", 0: \"Not Survived\"})\n",
        "titaniic_df = titanic_df.dropna()"
      ],
      "execution_count": 12,
      "outputs": []
    },
    {
      "cell_type": "code",
      "metadata": {
        "colab": {
          "base_uri": "https://localhost:8080/",
          "height": 197
        },
        "id": "u2NlqjrKeGtd",
        "outputId": "38ffe25c-9a3d-477c-c746-e91299b01735"
      },
      "source": [
        "titanic_df[[\"Sex\", \"Survived\"]].head()"
      ],
      "execution_count": 13,
      "outputs": [
        {
          "output_type": "execute_result",
          "data": {
            "text/html": [
              "<div>\n",
              "<style scoped>\n",
              "    .dataframe tbody tr th:only-of-type {\n",
              "        vertical-align: middle;\n",
              "    }\n",
              "\n",
              "    .dataframe tbody tr th {\n",
              "        vertical-align: top;\n",
              "    }\n",
              "\n",
              "    .dataframe thead th {\n",
              "        text-align: right;\n",
              "    }\n",
              "</style>\n",
              "<table border=\"1\" class=\"dataframe\">\n",
              "  <thead>\n",
              "    <tr style=\"text-align: right;\">\n",
              "      <th></th>\n",
              "      <th>Sex</th>\n",
              "      <th>Survived</th>\n",
              "    </tr>\n",
              "  </thead>\n",
              "  <tbody>\n",
              "    <tr>\n",
              "      <th>0</th>\n",
              "      <td>male</td>\n",
              "      <td>Not Survived</td>\n",
              "    </tr>\n",
              "    <tr>\n",
              "      <th>1</th>\n",
              "      <td>female</td>\n",
              "      <td>Survived</td>\n",
              "    </tr>\n",
              "    <tr>\n",
              "      <th>2</th>\n",
              "      <td>female</td>\n",
              "      <td>Survived</td>\n",
              "    </tr>\n",
              "    <tr>\n",
              "      <th>3</th>\n",
              "      <td>female</td>\n",
              "      <td>Survived</td>\n",
              "    </tr>\n",
              "    <tr>\n",
              "      <th>4</th>\n",
              "      <td>male</td>\n",
              "      <td>Not Survived</td>\n",
              "    </tr>\n",
              "  </tbody>\n",
              "</table>\n",
              "</div>"
            ],
            "text/plain": [
              "      Sex      Survived\n",
              "0    male  Not Survived\n",
              "1  female      Survived\n",
              "2  female      Survived\n",
              "3  female      Survived\n",
              "4    male  Not Survived"
            ]
          },
          "metadata": {
            "tags": []
          },
          "execution_count": 13
        }
      ]
    },
    {
      "cell_type": "markdown",
      "metadata": {
        "id": "1C-FLwv5eCNu"
      },
      "source": [
        "分割表（contingency table）を書いてみる"
      ]
    },
    {
      "cell_type": "code",
      "metadata": {
        "colab": {
          "base_uri": "https://localhost:8080/",
          "height": 137
        },
        "id": "IMvp3ZPJd3dU",
        "outputId": "6c44019c-1cc9-4d78-90e4-ab39a8be199d"
      },
      "source": [
        "contingency_table = pd.crosstab(titanic_df.Survived, titanic_df.Sex)\n",
        "contingency_table"
      ],
      "execution_count": 17,
      "outputs": [
        {
          "output_type": "execute_result",
          "data": {
            "text/html": [
              "<div>\n",
              "<style scoped>\n",
              "    .dataframe tbody tr th:only-of-type {\n",
              "        vertical-align: middle;\n",
              "    }\n",
              "\n",
              "    .dataframe tbody tr th {\n",
              "        vertical-align: top;\n",
              "    }\n",
              "\n",
              "    .dataframe thead th {\n",
              "        text-align: right;\n",
              "    }\n",
              "</style>\n",
              "<table border=\"1\" class=\"dataframe\">\n",
              "  <thead>\n",
              "    <tr style=\"text-align: right;\">\n",
              "      <th>Sex</th>\n",
              "      <th>female</th>\n",
              "      <th>male</th>\n",
              "    </tr>\n",
              "    <tr>\n",
              "      <th>Survived</th>\n",
              "      <th></th>\n",
              "      <th></th>\n",
              "    </tr>\n",
              "  </thead>\n",
              "  <tbody>\n",
              "    <tr>\n",
              "      <th>Not Survived</th>\n",
              "      <td>81</td>\n",
              "      <td>468</td>\n",
              "    </tr>\n",
              "    <tr>\n",
              "      <th>Survived</th>\n",
              "      <td>233</td>\n",
              "      <td>109</td>\n",
              "    </tr>\n",
              "  </tbody>\n",
              "</table>\n",
              "</div>"
            ],
            "text/plain": [
              "Sex           female  male\n",
              "Survived                  \n",
              "Not Survived      81   468\n",
              "Survived         233   109"
            ]
          },
          "metadata": {
            "tags": []
          },
          "execution_count": 17
        }
      ]
    },
    {
      "cell_type": "markdown",
      "metadata": {
        "id": "DNr3jK4PeddG"
      },
      "source": [
        "$p_f$: 女性の生存割合\n",
        "\n",
        "$p_m$: 男性の生存割合\n",
        "\n",
        "$H_{0}$: $p_{f} - p_{m} = 0$\n",
        "\n",
        "$H_{A}$: $p_{f} - p_{m} \\neq 0$\n"
      ]
    },
    {
      "cell_type": "markdown",
      "metadata": {
        "id": "ANhEEArref4z"
      },
      "source": [
        ""
      ]
    },
    {
      "cell_type": "code",
      "metadata": {
        "id": "-3lQOX1NhIj1"
      },
      "source": [
        "from statsmodels.stats.proportion import proportions_ztest"
      ],
      "execution_count": 18,
      "outputs": []
    },
    {
      "cell_type": "code",
      "metadata": {
        "colab": {
          "base_uri": "https://localhost:8080/"
        },
        "id": "46LbNclshRTS",
        "outputId": "b225b215-9b50-457f-f0f0-797e444e05a1"
      },
      "source": [
        "contingency_table.sum(axis=1).values"
      ],
      "execution_count": 19,
      "outputs": [
        {
          "output_type": "execute_result",
          "data": {
            "text/plain": [
              "Survived\n",
              "Not Survived    549\n",
              "Survived        342\n",
              "dtype: int64"
            ]
          },
          "metadata": {
            "tags": []
          },
          "execution_count": 19
        }
      ]
    },
    {
      "cell_type": "code",
      "metadata": {
        "id": "s0Te38CvhdYS"
      },
      "source": [
        ""
      ],
      "execution_count": null,
      "outputs": []
    }
  ]
}