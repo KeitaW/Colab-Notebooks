{
 "cells": [
  {
   "cell_type": "code",
   "execution_count": 6,
   "metadata": {
    "collapsed": true
   },
   "outputs": [],
   "source": [
    "import numpy as np\n",
    "from sklearn.base import BaseEstimator, RegressorMixin, ClassifierMixin\n",
    "import random\n",
    "import matplotlib.pyplot as plt\n",
    "%matplotlib inline"
   ]
  },
  {
   "cell_type": "code",
   "execution_count": 26,
   "metadata": {
    "collapsed": true
   },
   "outputs": [],
   "source": [
    "class soft_margin_SVM(BaseEstimator, ClassifierMixin):\n",
    "    '''\n",
    "    ソフトマージンSVMクラス．マージン最適化の問題をSMOアルゴリズムを用いて解いている．\n",
    "    簡単のため2次元の入力を仮定している点に注意．\n",
    "    '''\n",
    "    def __init__(self, C=0.01):\n",
    "        '''\n",
    "        正則化項に対応するもの．GridSearchで探索する変数\n",
    "        '''\n",
    "        self.C = C\n",
    "    def fit(self, X, y, max_iteration=2000):\n",
    "        C = self.C\n",
    "        labels = y\n",
    "        len_data = len(X)\n",
    "        flags_of_a = np.zeros(len_data, dtype=bool)\n",
    "        a = np.zeros(len(data))\n",
    "        len_a = len_data\n",
    "        for i in range(1000):\n",
    "            # smo で更新する a1, a2を選択する\n",
    "            # 方針としてまずAの各要素aがKTT条件である 0 < a < Cを満たすようにする．\n",
    "            # その後全体のaにたいしてまずは適当な回数ループを回してみることにする\n",
    "            # どちらのループを回すべきかを示すflag KKT条件を満たす == True otherwise == False\n",
    "            # KKT条件を満たさないaの添字を抽出．\n",
    "            false_a_indices = list(np.where(flags_of_a == False)[0])\n",
    "            # ラグランジュ定数 a_i (i=1, ...,N)を初期化\n",
    "            while True:\n",
    "                # KKT条件（ボックス条件）を満たさないものを優先的に走査する\n",
    "                if len(false_a_indices) != 0:\n",
    "                    idx_of_a1 = random.sample(false_a_indices, 1)\n",
    "                else:\n",
    "                    idx_of_a1 = random.sample(range(len_a), 1)\n",
    "                idx_of_a2 = random.sample(range(len_a), 1)\n",
    "                if idx_of_a1 != idx_of_a2:\n",
    "                    break\n",
    "            # 取り出したa1, a2を更新アルゴリズムに従って更新する\n",
    "            a2 = a[idx_of_a2]\n",
    "            y2 = labels[idx_of_a2]\n",
    "            a1 = a[idx_of_a1]\n",
    "            y1 = labels[idx_of_a1]\n",
    "            # a2の更新\n",
    "            tmp1 = 0\n",
    "            tmp2 = 0\n",
    "            for j in range(len_data):\n",
    "                tmp1 += labels[j]*a[j]*np.vdot(data[idx_of_a1, :], data[j, :])\n",
    "                tmp2 += labels[j]*a[j]*np.vdot(data[idx_of_a2, :], data[j, :])\n",
    "            K11 = np.vdot(data[idx_of_a1, :], data[idx_of_a1, :])\n",
    "            K12 = np.vdot(data[idx_of_a1, :], data[idx_of_a2, :])\n",
    "            K22 = np.vdot(data[idx_of_a2, :], data[idx_of_a2, :])\n",
    "            a2_new = a2 + (y2*((tmp1-y1)-(tmp2-y2)))/(K11+K22-2*K12) \n",
    "            # KKT条件(ボックス条件)と得られた結果を比較する\n",
    "            if y1 == y2 and min(C, a1+a2) < a2:\n",
    "                a2_new = min(C, a1+a2)\n",
    "            elif y1==y2 and max(0, a1+a2-C) <= a2_new <= min(C, a1+a2):\n",
    "                pass\n",
    "            elif y1 == y2 and a2_new < max(0, a1+a2-C):\n",
    "                a2_new = max(0, a1+a2-C)\n",
    "            elif y1 != y2 and min(C, C-a1+a2) < a2_new:\n",
    "                a2_new = min(C, C-a1+a2)\n",
    "            elif y1 != y2 and max(0, -a1+a2) <= a2_new <= min(C, C-a1+a2):\n",
    "                pass\n",
    "            elif a2_new < max(0, -a1+a2):\n",
    "                a2_new = max(0, -a1+a2)\n",
    "            a1_new = a1+y1*y2*(a2-a2_new)\n",
    "            a[idx_of_a1] = a1_new\n",
    "            a[idx_of_a2] = a2_new\n",
    "            flags_of_a[idx_of_a1] = True\n",
    "            flags_of_a[idx_of_a2] = True\n",
    "        # 求めたaからw, w_0を計算する\n",
    "        # まずサポートベクタを求める．サポートベクタに対応するaは0<a<Cを満たす\n",
    "        support_vec_indices = np.where(np.logical_and(0>a, a<C))[0]\n",
    "        w = np.zeros(data.shape[1])\n",
    "        w0 = 0\n",
    "        for idx in support_vec_indices:\n",
    "            w += a[idx]*labels[idx]*data[idx, :]\n",
    "            tmp = 0\n",
    "            for idx2 in support_vec_indices:\n",
    "                tmp += a[idx2] * labels[idx2] * np.vdot(data[idx2, :], data[idx, :])\n",
    "            w0 += labels[idx] - tmp\n",
    "        if len(support_vec_indices) != 0:\n",
    "            w0 /= len(support_vec_indices)\n",
    "        else:\n",
    "            w[1] = 1\n",
    "            w[0] = 0\n",
    "            w0 = 0\n",
    "        # y = - w[0]/w[1]* x -w0/w[1] であるが右辺第1項と2項をそれぞれ新たにw1, w0とする\n",
    "        # この部分を修正すれば多次元化可能\n",
    "        self.coef_ = -w[0]/w[1], -w0/w[1]\n",
    "        # y = w \n",
    "        self.support_vec_indices = support_vec_indices\n",
    "        return self\n",
    "    def predict(self, X):\n",
    "        '''\n",
    "        fit 関数で学習した学習器で予測を行う．具体的にはm * 二次元ベクトルの入力Xのそれぞれのxに対して y = w1 * x[0]  + w0 を計算し．\n",
    "        x[1] >= yであれば1, x[1] < yであれば0を返す(0, 1はクラスラベル)．\n",
    "        '''\n",
    "        w0, w1 = self.coef_\n",
    "        Y = np.array([ w1*x[0] + w0 for x in X ])\n",
    "        labels = list()\n",
    "        for x, y in zip(X, Y):\n",
    "            if x[1] >= y:\n",
    "                labels.append(-1)\n",
    "            else:\n",
    "                labels.append(1)\n",
    "        return labels"
   ]
  },
  {
   "cell_type": "code",
   "execution_count": 27,
   "metadata": {
    "collapsed": false
   },
   "outputs": [
    {
     "data": {
      "image/png": "[encoded data removed]",
      "text/plain": [
       "<matplotlib.figure.Figure at 0x11d554588>"
      ]
     },
     "metadata": {},
     "output_type": "display_data"
    }
   ],
   "source": [
    "from sklearn.datasets.samples_generator import make_blobs\n",
    "data, labels = make_blobs(n_samples=100, centers=2, n_features=2, random_state=0)\n",
    "labels[labels==0] = -1\n",
    "labels\n",
    "len_data = len(data)\n",
    "for pos, label in zip(data, labels):\n",
    "    if label == 1:\n",
    "        plt.plot(pos[0], pos[1], 'b.')\n",
    "    else:\n",
    "        plt.plot(pos[0], pos[1], 'g.')\n",
    "##  性能評価方法"
   ]
  },
  {
   "cell_type": "code",
   "execution_count": 28,
   "metadata": {
    "collapsed": false
   },
   "outputs": [],
   "source": [
    "svm = soft_margin_SVM()\n",
    "svm_estimator = svm.fit(data, labels)"
   ]
  },
  {
   "cell_type": "code",
   "execution_count": 29,
   "metadata": {
    "collapsed": false
   },
   "outputs": [
    {
     "data": {
      "text/plain": [
       "(-0.072947648543945698, 3.0173915265419375)"
      ]
     },
     "execution_count": 29,
     "metadata": {},
     "output_type": "execute_result"
    }
   ],
   "source": [
    "svm_estimator.coef_"
   ]
  },
  {
   "cell_type": "code",
   "execution_count": 30,
   "metadata": {
    "collapsed": false
   },
   "outputs": [
    {
     "data": {
      "image/png": "[encoded data removed]",
      "text/plain": [
       "<matplotlib.figure.Figure at 0x11e1e5eb8>"
      ]
     },
     "metadata": {},
     "output_type": "display_data"
    }
   ],
   "source": [
    "x = np.arange(-2, 6, 0.1)\n",
    "w = svm_estimator.coef_\n",
    "y = w[0]* x + w[1]\n",
    "plt.plot(x, y)\n",
    "idx = -1\n",
    "for pos, label in zip(data, labels):\n",
    "    idx += 1\n",
    "    if label == 1:\n",
    "        plt.plot(pos[0], pos[1], 'b.')\n",
    "    else:\n",
    "        plt.plot(pos[0], pos[1], 'g.')"
   ]
  },
  {
   "cell_type": "markdown",
   "metadata": {},
   "source": [
    "もうちょっと真面目にやってみる"
   ]
  },
  {
   "cell_type": "code",
   "execution_count": 41,
   "metadata": {
    "collapsed": true
   },
   "outputs": [],
   "source": [
    "from sklearn.cross_validation import train_test_split\n",
    "from sklearn.grid_search import GridSearchCV\n",
    "from sklearn.metrics import classification_report, confusion_matrix"
   ]
  },
  {
   "cell_type": "code",
   "execution_count": 42,
   "metadata": {
    "collapsed": false
   },
   "outputs": [
    {
     "data": {
      "image/png": "[encoded data removed]",
      "text/plain": [
       "<matplotlib.figure.Figure at 0x11dfc2ef0>"
      ]
     },
     "metadata": {},
     "output_type": "display_data"
    }
   ],
   "source": [
    "from sklearn.datasets.samples_generator import make_blobs\n",
    "X, y = make_blobs(n_samples=100, centers=2, n_features=2, random_state=0)\n",
    "y[y==0] = -1\n",
    "for pos, label in zip(X, y):\n",
    "    if label == 1:\n",
    "        plt.plot(pos[0], pos[1], 'b.')\n",
    "    else:\n",
    "        plt.plot(pos[0], pos[1], 'g.')"
   ]
  },
  {
   "cell_type": "code",
   "execution_count": 43,
   "metadata": {
    "collapsed": true
   },
   "outputs": [],
   "source": [
    "X_train, X_test, y_train, y_test = train_test_split(X, y, test_size=0.5, random_state=0)"
   ]
  },
  {
   "cell_type": "code",
   "execution_count": 44,
   "metadata": {
    "collapsed": true
   },
   "outputs": [],
   "source": [
    "parameters = {'C':np.linspace(0, 1, 10)}\n",
    "svm = GridSearchCV(soft_margin_SVM(), parameters, cv=2)"
   ]
  },
  {
   "cell_type": "code",
   "execution_count": 45,
   "metadata": {
    "collapsed": false
   },
   "outputs": [
    {
     "data": {
      "text/plain": [
       "soft_margin_SVM(C=0.22222222222222221)"
      ]
     },
     "execution_count": 45,
     "metadata": {},
     "output_type": "execute_result"
    }
   ],
   "source": [
    "svm.fit(X_test, y_test)\n",
    "svm.best_estimator_"
   ]
  },
  {
   "cell_type": "code",
   "execution_count": 50,
   "metadata": {
    "collapsed": false
   },
   "outputs": [
    {
     "data": {
      "image/png": "[encoded data removed]",
      "text/plain": [
       "<matplotlib.figure.Figure at 0x11d598828>"
      ]
     },
     "metadata": {},
     "output_type": "display_data"
    }
   ],
   "source": [
    "x = np.arange(-2, 6, 0.1)\n",
    "w = svm.best_estimator_.coef_\n",
    "y = w[0]* x + w[1]\n",
    "plt.plot(x, y)\n",
    "idx = -1\n",
    "for pos, label in zip(X_test, y_test):\n",
    "    idx += 1\n",
    "    if label == 1:\n",
    "        plt.plot(pos[0], pos[1], 'b.')\n",
    "    else:\n",
    "        plt.plot(pos[0], pos[1], 'g.')"
   ]
  },
  {
   "cell_type": "markdown",
   "metadata": {},
   "source": [
    "Mean accuracy of the best estimater"
   ]
  },
  {
   "cell_type": "code",
   "execution_count": 52,
   "metadata": {
    "collapsed": false
   },
   "outputs": [
    {
     "data": {
      "text/plain": [
       "0.83999999999999997"
      ]
     },
     "execution_count": 52,
     "metadata": {},
     "output_type": "execute_result"
    }
   ],
   "source": [
    "svm.best_estimator_.score(X_test, y_test)"
   ]
  },
  {
   "cell_type": "code",
   "execution_count": null,
   "metadata": {
    "collapsed": true
   },
   "outputs": [],
   "source": []
  }
 ],
 "metadata": {
  "kernelspec": {
   "display_name": "Python 3",
   "language": "python",
   "name": "python3"
  },
  "language_info": {
   "codemirror_mode": {
    "name": "ipython",
    "version": 3
   },
   "file_extension": ".py",
   "mimetype": "text/x-python",
   "name": "python",
   "nbconvert_exporter": "python",
   "pygments_lexer": "ipython3",
   "version": "3.5.2"
  },
  "nav_menu": {},
  "toc": {
   "navigate_menu": true,
   "number_sections": true,
   "sideBar": true,
   "threshold": 6,
   "toc_cell": false,
   "toc_section_display": "block",
   "toc_window_display": false
  }
 },
 "nbformat": 4,
 "nbformat_minor": 2
}
