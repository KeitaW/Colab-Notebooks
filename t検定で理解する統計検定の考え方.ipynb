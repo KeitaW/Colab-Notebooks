{
  "nbformat": 4,
  "nbformat_minor": 0,
  "metadata": {
    "colab": {
      "name": "t検定で理解する統計検定の考え方.ipynb",
      "provenance": [],
      "collapsed_sections": [],
      "authorship_tag": "ABX9TyNUDUp8CzypwLl35B4YxjDa",
      "include_colab_link": true
    },
    "kernelspec": {
      "name": "python3",
      "display_name": "Python 3"
    }
  },
  "cells": [
    {
      "cell_type": "markdown",
      "metadata": {
        "id": "view-in-github",
        "colab_type": "text"
      },
      "source": [
        "<a href=\"https://colab.research.google.com/github/KeitaW/Colab-Notebooks/blob/master/t%E6%A4%9C%E5%AE%9A%E3%81%A7%E7%90%86%E8%A7%A3%E3%81%99%E3%82%8B%E7%B5%B1%E8%A8%88%E6%A4%9C%E5%AE%9A%E3%81%AE%E8%80%83%E3%81%88%E6%96%B9.ipynb\" target=\"_parent\"><img src=\"https://colab.research.google.com/assets/colab-badge.svg\" alt=\"Open In Colab\"/></a>"
      ]
    },
    {
      "cell_type": "markdown",
      "metadata": {
        "id": "o-3oO6R_A_dk"
      },
      "source": [
        "ここでは，統計検定の考え方を最も基本的な検定である母平均のt検定を通じて整理することを目指す．\n",
        "まとめの方針として，中心極限定理以外の知識については（冗長になるが）すべて述べることにする．\n",
        "なお，中心極限定理に関しては [Scrapboxの記事](https://scrapbox.io/KeitaWatanabeNote/%E4%B8%AD%E5%BF%83%E6%A5%B5%E9%99%90%E5%AE%9A%E7%90%86%EF%BC%88central_limit_theorem%EF%BC%89)を参照"
      ]
    },
    {
      "cell_type": "markdown",
      "metadata": {
        "id": "vjhDBFys56Id"
      },
      "source": [
        "t検定を理解するために必要なもの\n",
        "* 中心極限定理を利用した大標本における区間推定\n",
        "* 少標本に対する区間推定とt分布\n",
        "* t値とt検定\n",
        "区間推定：確率分布のパラメタの真の推定値が含まれる区間を確率的に推定すること．\n"
      ]
    },
    {
      "cell_type": "markdown",
      "metadata": {
        "id": "rbJbcBgk_66R"
      },
      "source": [
        "# 中心極限定理を利用した大標本における区間推定\n",
        "サンプルサイズ$n$が大きいときには中心極限定理を利用して． 区間推定ができる（後述のt分布を用いた区間推定のほうが実用的）．\n",
        "中心極限定理によると\n",
        "$$\n",
        "P\\left(a < \\frac{n\\bar{x} - n\\mu}{\\sqrt{n}\\sigma} < b  \\right) \\approx \\int_{a}^{b} \\frac{1}{\\sqrt{2\\pi}} e^{-\\frac{x^2}{2}} dx\n",
        "$$\n",
        "と書ける．ただし$\\bar{x}= \\frac{1}{n} \\sum_{i=1}^n x_i $\n",
        "$$\n",
        "a < \\frac{n\\bar{x} - n\\mu}{\\sqrt{n}\\sigma} < b \n",
        "$$\n",
        "を変形すると\n",
        "$$\n",
        "\\mu + a \\frac{\\sigma}{\\sqrt{n}} < \\bar{x} < \\mu + b \\frac{\\sigma}{\\sqrt{n}} \n",
        "$$となる．\n",
        "つまり\n",
        "$$\n",
        "P\\left(\\mu + a \\frac{\\sigma}{\\sqrt{n}} < \\bar{x} < \\mu + b \\frac{\\sigma}{\\sqrt{n}}   \\right) \\approx \\int_{a}^{b} \\frac{1}{\\sqrt{2\\pi}} e^{-\\frac{x^2}{2}} dx\n",
        "$$\n",
        "実は，$a=-1.96, b=1.96$としたとき右辺の積分の値は$0.95$になる"
      ]
    },
    {
      "cell_type": "code",
      "metadata": {
        "id": "dqClfuEPM1Ll",
        "colab": {
          "base_uri": "https://localhost:8080/",
          "height": 36
        },
        "outputId": "03bdd752-098e-4cbd-c15f-be457637657b"
      },
      "source": [
        "from sympy import Symbol, pi, exp, sqrt, integrate\n",
        "from scipy.stats import norm, t\n",
        "import numpy as np\n",
        "import pandas as pd\n",
        "import matplotlib.pyplot as plt\n",
        "x = Symbol('x')\n",
        "float(integrate(1/sqrt(2.0*pi)*exp(-x**2/2), (x, -1.96, 1.96)))"
      ],
      "execution_count": null,
      "outputs": [
        {
          "output_type": "execute_result",
          "data": {
            "text/plain": [
              "0.950004209703559"
            ]
          },
          "metadata": {
            "tags": []
          },
          "execution_count": 3
        }
      ]
    },
    {
      "cell_type": "markdown",
      "metadata": {
        "id": "GUCusOewM5v1"
      },
      "source": [
        "$$\n",
        "P\\left(\\bar{x} -1.96 \\frac{\\sigma}{\\sqrt{n}} < \\mu < \\bar{x} + 1.96 \\frac{\\sigma}{\\sqrt{n}}  \\right) \\approx \\int_{-1.96}^{1.96} \\frac{1}{\\sqrt{2\\pi}} e^{-\\frac{x^2}{2}} dx = 0.95\n",
        "$$\n",
        "ここで標準偏差$\\sigma$もまた未知なので，不偏分散の平方根$std(x)$で置き換えると\n",
        "$$\n",
        "P\\left(\\bar{x} -1.96 \\frac{std(x)}{\\sqrt{n}} < \\mu < \\bar{x} + 1.96 \\frac{std(x)}{\\sqrt{n}}  \\right) \\approx \\int_{-1.96}^{1.96} \\frac{1}{\\sqrt{2\\pi}} e^{-\\frac{x^2}{2}} dx = 0.95\n",
        "$$\n",
        "（ここでは踏み込まないが，この置き換えは厳密には正しくない．なぜならば不偏分散の平方根は不偏統計量ではないため．）"
      ]
    },
    {
      "cell_type": "markdown",
      "metadata": {
        "id": "Xf5ThY3VOafy"
      },
      "source": [
        "$$\n",
        "\\bar{x} -1.96 \\frac{std(x)}{\\sqrt{n}} < \\mu < \\bar{x} + 1.96 \\frac{std(x)}{\\sqrt{n}}\n",
        "$$\n",
        "を95%信頼区間という．次にこの意味するところをシンプルな例で確認する．"
      ]
    },
    {
      "cell_type": "markdown",
      "metadata": {
        "id": "0z0jWlW6PMsA"
      },
      "source": [
        "例. \n",
        "\n",
        "分散1, 平均0の正規分布が真の分布であるとする． この分布から得た$10$個のサンプルを用いて，平均を区間推定するという実験を100回繰り返してみる\n"
      ]
    },
    {
      "cell_type": "code",
      "metadata": {
        "id": "ef7vNUG9UCjX"
      },
      "source": [
        "mean = 0\n",
        "std = 1\n",
        "lowers, uppers = [], []\n",
        "n_sample = 100\n",
        "n_experiments = 100\n",
        "for _ in range(n_experiments):\n",
        "  sample = np.random.normal(loc=mean, scale=std, size=n_sample)\n",
        "  sample_mean = np.mean(sample)\n",
        "  sample_std = np.std(sample)\n",
        "  lowers.append(sample_mean  - 1.96 * sample_std / np.sqrt(n_sample))\n",
        "  uppers.append(sample_mean  + 1.96 * sample_std / np.sqrt(n_sample))"
      ],
      "execution_count": null,
      "outputs": []
    },
    {
      "cell_type": "code",
      "metadata": {
        "id": "eegfE1FFUB22",
        "colab": {
          "base_uri": "https://localhost:8080/",
          "height": 328
        },
        "outputId": "6a57c28f-8897-46ff-947a-f931da61c631"
      },
      "source": [
        "fig, ax = plt.subplots()\n",
        "ax.hlines(mean, 0, 100, label=\"True Mean\", color=\"r\")\n",
        "for idx, (lower, upper) in enumerate(zip(lowers, uppers)):\n",
        "  ax.vlines(idx, lower, upper)\n",
        "ax.set_xlabel(\"# of samples\")\n",
        "ax.set_ylabel(\"Mean\")\n",
        "fig.legend()"
      ],
      "execution_count": null,
      "outputs": [
        {
          "output_type": "execute_result",
          "data": {
            "text/plain": [
              "<matplotlib.legend.Legend at 0x7f4d29e7fa90>"
            ]
          },
          "metadata": {
            "tags": []
          },
          "execution_count": 21
        },
        {
          "output_type": "display_data",
          "data": {
            "image/png": "[encoded data removed]",
            "text/plain": [
              "<Figure size 432x288 with 1 Axes>"
            ]
          },
          "metadata": {
            "tags": [],
            "needs_background": "light"
          }
        }
      ]
    },
    {
      "cell_type": "markdown",
      "metadata": {
        "id": "XqBvrz0OU879"
      },
      "source": [
        "グラフの各縦棒が各実験における95%信頼区間を表す．これを見ると，大半の信頼区間は真の値を含んでいるが，そうでないものも散見されることがわかる．"
      ]
    },
    {
      "cell_type": "code",
      "metadata": {
        "id": "Myu263LKVYCs",
        "colab": {
          "base_uri": "https://localhost:8080/",
          "height": 328
        },
        "outputId": "664e1fc4-7bfb-481a-ea7c-ab129b7a77a7"
      },
      "source": [
        "success = 0\n",
        "for lower, upper in zip(lowers, uppers):\n",
        "  if lower <= mean <= upper:\n",
        "    success += 1\n",
        "fig, ax = plt.subplots()\n",
        "ax.bar(0, (n_experiments - success) / n_experiments, label=f\"Fail: {(n_experiments - success) / n_experiments}\")\n",
        "ax.bar(1, success / n_experiments, label=f\"Success: {success / n_experiments}\")\n",
        "ax.set_xlabel(\"# of samples\")\n",
        "ax.set_ylabel(\"Count\")\n",
        "fig.legend()"
      ],
      "execution_count": null,
      "outputs": [
        {
          "output_type": "execute_result",
          "data": {
            "text/plain": [
              "<matplotlib.legend.Legend at 0x7f4d29af5828>"
            ]
          },
          "metadata": {
            "tags": []
          },
          "execution_count": 22
        },
        {
          "output_type": "display_data",
          "data": {
            "image/png": "[encoded data removed]",
            "text/plain": [
              "<Figure size 432x288 with 1 Axes>"
            ]
          },
          "metadata": {
            "tags": [],
            "needs_background": "light"
          }
        }
      ]
    },
    {
      "cell_type": "markdown",
      "metadata": {
        "id": "7FgIyVkHWzaz"
      },
      "source": [
        "95%信頼区間の意味がこの例からわかる．すなわち，サンプルをn個用いて95%信頼区間を推定するという実験を100回繰り返したとき，各実験から得られた100個の異なる95%信頼区間のうち，95個が真の値を含むということである．"
      ]
    },
    {
      "cell_type": "code",
      "metadata": {
        "id": "Qo2-VXuRX-nP"
      },
      "source": [
        "mean = 0\n",
        "std = 1\n",
        "lowers, uppers = [], []\n",
        "n_sample = 10\n",
        "n_experiments = 100\n",
        "for _ in range(n_experiments):\n",
        "  sample = np.random.normal(loc=mean, scale=std, size=n_sample)\n",
        "  sample_mean = np.mean(sample)\n",
        "  sample_std = np.std(sample)\n",
        "  lowers.append(sample_mean  - 1.96 * sample_std / np.sqrt(n_sample))\n",
        "  uppers.append(sample_mean  + 1.96 * sample_std / np.sqrt(n_sample))"
      ],
      "execution_count": null,
      "outputs": []
    },
    {
      "cell_type": "code",
      "metadata": {
        "id": "826zqX6xX_-4",
        "colab": {
          "base_uri": "https://localhost:8080/",
          "height": 328
        },
        "outputId": "0a289e87-e42a-47eb-d478-a8b51bb6c26a"
      },
      "source": [
        "fig, ax = plt.subplots()\n",
        "ax.hlines(mean, 0, 100, label=\"True Mean\", color=\"r\")\n",
        "for idx, (lower, upper) in enumerate(zip(lowers, uppers)):\n",
        "  ax.vlines(idx, lower, upper)\n",
        "ax.set_xlabel(\"# of samples\")\n",
        "ax.set_ylabel(\"Mean\")\n",
        "fig.legend()"
      ],
      "execution_count": null,
      "outputs": [
        {
          "output_type": "execute_result",
          "data": {
            "text/plain": [
              "<matplotlib.legend.Legend at 0x7f4d29671860>"
            ]
          },
          "metadata": {
            "tags": []
          },
          "execution_count": 31
        },
        {
          "output_type": "display_data",
          "data": {
            "image/png": "[encoded data removed]",
            "text/plain": [
              "<Figure size 432x288 with 1 Axes>"
            ]
          },
          "metadata": {
            "tags": [],
            "needs_background": "light"
          }
        }
      ]
    },
    {
      "cell_type": "code",
      "metadata": {
        "id": "Th334UTtYquE",
        "colab": {
          "base_uri": "https://localhost:8080/",
          "height": 328
        },
        "outputId": "a1797f62-3c7f-4864-aea1-958b8dc94ed4"
      },
      "source": [
        "success = 0\n",
        "for lower, upper in zip(lowers, uppers):\n",
        "  if lower <= mean <= upper:\n",
        "    success += 1\n",
        "fig, ax = plt.subplots()\n",
        "ax.bar(0, (n_experiments - success) / n_experiments, label=f\"Fail: {(n_experiments - success) / n_experiments}\")\n",
        "ax.bar(1, success / n_experiments, label=f\"Success: {success / n_experiments}\")\n",
        "ax.set_xlabel(\"# of samples\")\n",
        "ax.set_ylabel(\"Count\")\n",
        "fig.legend()"
      ],
      "execution_count": null,
      "outputs": [
        {
          "output_type": "execute_result",
          "data": {
            "text/plain": [
              "<matplotlib.legend.Legend at 0x7f4d294ccb38>"
            ]
          },
          "metadata": {
            "tags": []
          },
          "execution_count": 32
        },
        {
          "output_type": "display_data",
          "data": {
            "image/png": "[encoded data removed]",
            "text/plain": [
              "<Figure size 432x288 with 1 Axes>"
            ]
          },
          "metadata": {
            "tags": [],
            "needs_background": "light"
          }
        }
      ]
    },
    {
      "cell_type": "markdown",
      "metadata": {
        "id": "Z0jGFuHYY_Wb"
      },
      "source": [
        "サンプル数が少ないときには誤差が大きい"
      ]
    },
    {
      "cell_type": "code",
      "metadata": {
        "id": "UufqDx80ZDdi"
      },
      "source": [
        "mean = 0\n",
        "std = 1\n",
        "lowers_norm, uppers_norm = [], []\n",
        "lowers_t, uppers_t = [], []\n",
        "n_samples = 10\n",
        "n_experiments = 100\n",
        "for _ in range(n_experiments):\n",
        "  sample = np.random.normal(loc=mean, scale=std, size=n_sample)\n",
        "  sample_mean = np.mean(sample)\n",
        "  sample_std = np.std(sample)\n",
        "  lowers_norm.append(sample_mean  - norm.ppf(0.975) * sample_std / np.sqrt(n_sample))\n",
        "  uppers_norm.append(sample_mean  + norm.ppf(0.975)* sample_std / np.sqrt(n_sample))\n",
        "  lowers_t.append(sample_mean  - t.ppf(0.975, df=n_sample-1) * sample_std / np.sqrt(n_sample))\n",
        "  uppers_t.append(sample_mean  + t.ppf(0.975, df=n_sample-1) * sample_std / np.sqrt(n_sample))  "
      ],
      "execution_count": null,
      "outputs": []
    },
    {
      "cell_type": "code",
      "metadata": {
        "id": "BmJ0WS4uZQDq",
        "colab": {
          "base_uri": "https://localhost:8080/",
          "height": 328
        },
        "outputId": "230cd130-52ec-4fc6-cde8-a9d4b00e429d"
      },
      "source": [
        "fig, ax = plt.subplots()\n",
        "ax.hlines(mean, 0, 100, label=\"True Mean\", color=\"r\")\n",
        "for idx, (lower, upper) in enumerate(zip(lowers_norm, uppers_norm)):\n",
        "  ax.vlines(idx, lower, upper, color=\"b\")\n",
        "for idx, (lower, upper) in enumerate(zip(lowers_t, uppers_t)):\n",
        "  ax.vlines(idx+0.1, lower, upper, color=\"g\", alpha=0.5) \n",
        "ax.set_xlabel(\"# of samples\")\n",
        "ax.set_ylabel(\"Mean\")\n",
        "fig.legend()"
      ],
      "execution_count": null,
      "outputs": [
        {
          "output_type": "execute_result",
          "data": {
            "text/plain": [
              "<matplotlib.legend.Legend at 0x7f4d28dc4630>"
            ]
          },
          "metadata": {
            "tags": []
          },
          "execution_count": 41
        },
        {
          "output_type": "display_data",
          "data": {
            "image/png": "[encoded data removed]",
            "text/plain": [
              "<Figure size 432x288 with 1 Axes>"
            ]
          },
          "metadata": {
            "tags": [],
            "needs_background": "light"
          }
        }
      ]
    },
    {
      "cell_type": "markdown",
      "metadata": {
        "id": "osu4-PL7djGy"
      },
      "source": [
        "# t分布の導入"
      ]
    },
    {
      "cell_type": "markdown",
      "metadata": {
        "id": "2gf3igckdmJh"
      },
      "source": [
        "hogehoge"
      ]
    },
    {
      "cell_type": "markdown",
      "metadata": {
        "id": "TJ7jy1uCcgIi"
      },
      "source": [
        "青が正規分布を用いて区間推定を行った場合，緑がt分布を用いて区間推定を用いた場合．青が外れている場合でも，緑が真の値を含んでいることに注意"
      ]
    },
    {
      "cell_type": "code",
      "metadata": {
        "id": "9BXGdGVkZTBx",
        "colab": {
          "base_uri": "https://localhost:8080/",
          "height": 328
        },
        "outputId": "d4de6b6e-40d7-40b3-b951-8d7c204b4ebb"
      },
      "source": [
        "success_t = 0\n",
        "for lower, upper in zip(lowers_t, uppers_t):\n",
        "  if lower <= mean <= upper:\n",
        "    success_t += 1\n",
        "success_n = 0\n",
        "for lower, upper in zip(lowers_norm, uppers_norm):\n",
        "  if lower <= mean <= upper:\n",
        "    success_n += 1\n",
        "\n",
        "fig, ax = plt.subplots()\n",
        "ax.bar(0, (n_experiments - success_t) / n_experiments, label=f\"Fail: {(n_experiments - success_t) / n_experiments}\")\n",
        "ax.bar(1, success_t / n_experiments, label=f\"Success: {success_t / n_experiments}\")\n",
        "ax.bar(2, (n_experiments - success_n) / n_experiments, label=f\"Fail: {(n_experiments - success_n) / n_experiments}\")\n",
        "ax.bar(3, success_n / n_experiments, label=f\"Success: {success_n / n_experiments}\")\n",
        "ax.set_xlabel(\"# of samples\")\n",
        "ax.set_ylabel(\"Count\")\n",
        "fig.legend()"
      ],
      "execution_count": null,
      "outputs": [
        {
          "output_type": "execute_result",
          "data": {
            "text/plain": [
              "<matplotlib.legend.Legend at 0x7f4d28a93d30>"
            ]
          },
          "metadata": {
            "tags": []
          },
          "execution_count": 44
        },
        {
          "output_type": "display_data",
          "data": {
            "image/png": "[encoded data removed]",
            "text/plain": [
              "<Figure size 432x288 with 1 Axes>"
            ]
          },
          "metadata": {
            "tags": [],
            "needs_background": "light"
          }
        }
      ]
    },
    {
      "cell_type": "markdown",
      "metadata": {
        "id": "OEkWRW2idRxz"
      },
      "source": [
        "このように，少標本においてt分布を用いた区間推定のほうが誤差が少ないことがわかる"
      ]
    },
    {
      "cell_type": "markdown",
      "metadata": {
        "id": "ZM_0Vbhmdc58"
      },
      "source": [
        "t分布に従うのはわかっています．とただ実用上は真の平均はわからない．そこでどういうことを行うか，母平均のt検定である．この検定は適当に平均を仮定したt分布から（ここから帰無仮説の解説につなげる），実験で得られた値が生成される確率を見積もることで，どの程度その過程が尤もらしいかを評価する．その確率がある値（これを有意水準といい，$p=0.05$などが用いられる）を下回ったとき，その仮定を棄却する．"
      ]
    },
    {
      "cell_type": "markdown",
      "metadata": {
        "id": "gTVimabHB-LB"
      },
      "source": [
        "# P値についての議論"
      ]
    },
    {
      "cell_type": "markdown",
      "metadata": {
        "id": "bGfsk3HCCAK0"
      },
      "source": [
        "検出力，効果量，"
      ]
    },
    {
      "cell_type": "code",
      "metadata": {
        "id": "mFwLuFLWMuee"
      },
      "source": [
        ""
      ],
      "execution_count": null,
      "outputs": []
    },
    {
      "cell_type": "code",
      "metadata": {
        "id": "dWVJ7YEcOZY7"
      },
      "source": [
        "\n"
      ],
      "execution_count": null,
      "outputs": []
    },
    {
      "cell_type": "code",
      "metadata": {
        "id": "TCsncpTuWyt0"
      },
      "source": [
        ""
      ],
      "execution_count": null,
      "outputs": []
    }
  ]
}