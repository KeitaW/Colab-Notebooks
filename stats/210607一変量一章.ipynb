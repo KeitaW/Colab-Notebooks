{
  "nbformat": 4,
  "nbformat_minor": 0,
  "metadata": {
    "colab": {
      "name": "210607一変量一章.ipynb",
      "provenance": [],
      "collapsed_sections": [],
      "authorship_tag": "ABX9TyNgk7b/4q5Vz5VRKBjorItZ",
      "include_colab_link": true
    },
    "kernelspec": {
      "name": "python3",
      "display_name": "Python 3"
    },
    "language_info": {
      "name": "python"
    }
  },
  "cells": [
    {
      "cell_type": "markdown",
      "metadata": {
        "id": "view-in-github",
        "colab_type": "text"
      },
      "source": [
        "<a href=\"https://colab.research.google.com/github/KeitaW/Colab-Notebooks/blob/master/stats/210607%E4%B8%80%E5%A4%89%E9%87%8F%E4%B8%80%E7%AB%A0.ipynb\" target=\"_parent\"><img src=\"https://colab.research.google.com/assets/colab-badge.svg\" alt=\"Open In Colab\"/></a>"
      ]
    },
    {
      "cell_type": "code",
      "metadata": {
        "id": "naSBw2piV6P3"
      },
      "source": [
        "import numpy as np\n",
        "import matplotlib.pyplot as plt\n",
        "import seaborn as sns"
      ],
      "execution_count": 1,
      "outputs": []
    },
    {
      "cell_type": "markdown",
      "metadata": {
        "id": "sARzlJDaVwOj"
      },
      "source": [
        " ## 問1"
      ]
    },
    {
      "cell_type": "code",
      "metadata": {
        "colab": {
          "base_uri": "https://localhost:8080/"
        },
        "id": "kxrH2FuhWQf-",
        "outputId": "9c08f66f-e580-404c-c9fd-815d1195fb7c"
      },
      "source": [
        "5.63/171.58"
      ],
      "execution_count": 3,
      "outputs": [
        {
          "output_type": "execute_result",
          "data": {
            "text/plain": [
              "0.03281268213078447"
            ]
          },
          "metadata": {
            "tags": []
          },
          "execution_count": 3
        }
      ]
    },
    {
      "cell_type": "code",
      "metadata": {
        "colab": {
          "base_uri": "https://localhost:8080/"
        },
        "id": "r0T2o26hWTst",
        "outputId": "990bd0ea-77c0-4a3a-83b6-f59e3595b771"
      },
      "source": [
        "5.56 / 158.23"
      ],
      "execution_count": 4,
      "outputs": [
        {
          "output_type": "execute_result",
          "data": {
            "text/plain": [
              "0.035138722113379255"
            ]
          },
          "metadata": {
            "tags": []
          },
          "execution_count": 4
        }
      ]
    },
    {
      "cell_type": "markdown",
      "metadata": {
        "id": "P08FzKUOWXfd"
      },
      "source": [
        "よって，女性のほうが身長のばらつきが大きい"
      ]
    },
    {
      "cell_type": "markdown",
      "metadata": {
        "id": "0EwA7OriWcXF"
      },
      "source": [
        "## 問2"
      ]
    },
    {
      "cell_type": "code",
      "metadata": {
        "colab": {
          "base_uri": "https://localhost:8080/"
        },
        "id": "3rndgoNtZ--Q",
        "outputId": "c34329cc-6abe-4384-d7cd-981bbb1fd0a7"
      },
      "source": [
        "np.sum((data - np.mean(data))**2)"
      ],
      "execution_count": 26,
      "outputs": [
        {
          "output_type": "execute_result",
          "data": {
            "text/plain": [
              "48.800000000000004"
            ]
          },
          "metadata": {
            "tags": []
          },
          "execution_count": 26
        }
      ]
    },
    {
      "cell_type": "code",
      "metadata": {
        "colab": {
          "base_uri": "https://localhost:8080/"
        },
        "id": "b5JcZfdyWf9F",
        "outputId": "8ff22105-b05d-40de-e2df-6f08a057c7d8"
      },
      "source": [
        "data = np.array([2., 5., 11., 7., 9.])\n",
        "n = len(data)\n",
        "print(f\"\"\"\n",
        "    arithmetic mean: {np.sum(data) / n}\n",
        "    geometric mean: {np.power(np.sum(np.prod(data)), 1/n)}\n",
        "    harmonic mean: {(1/n)*(np.sum(1/data))}\n",
        "    unbiased estimate of variance: {1/(n-1)*(np.sum((data - np.mean(data))**2))}\n",
        "    sqrt of unbiased estimate of variance: {np.sqrt((1/(n-1))*(np.sum((data - np.mean(data))**2)))}\n",
        "\"\"\")"
      ],
      "execution_count": 30,
      "outputs": [
        {
          "output_type": "stream",
          "text": [
            "\n",
            "    arithmetic mean: 6.8\n",
            "    geometric mean: 5.863361174590121\n",
            "    harmonic mean: 0.208975468975469\n",
            "    unbiased estimate of variance: 12.200000000000001\n",
            "    sqrt of unbiased estimate of variance: 3.492849839314596\n",
            "\n"
          ],
          "name": "stdout"
        }
      ]
    },
    {
      "cell_type": "markdown",
      "metadata": {
        "id": "_VVJMctDXxSC"
      },
      "source": [
        "## 問3"
      ]
    },
    {
      "cell_type": "code",
      "metadata": {
        "colab": {
          "base_uri": "https://localhost:8080/"
        },
        "id": "BK7yg_AiXOYu",
        "outputId": "43a98a5f-f2c0-4799-9057-e17f2d875faf"
      },
      "source": [
        "data = [34, 56, 32, 15, 49]\n",
        "n = len(data)\n",
        "print(f\"\"\"\n",
        "    mean deviation: {(1/n) * np.sum(np.abs(data - np.mean(data)))}\n",
        "    standard deviation: {np.sqrt((1/(n-1))*(np.sum((data - np.mean(data))**2)))}\n",
        "\"\"\")"
      ],
      "execution_count": 31,
      "outputs": [
        {
          "output_type": "stream",
          "text": [
            "\n",
            "    mean deviation: 12.240000000000002\n",
            "    standard deviation: 15.990622251807464\n",
            "\n"
          ],
          "name": "stdout"
        }
      ]
    },
    {
      "cell_type": "markdown",
      "metadata": {
        "id": "kgUgXWtsbYQ3"
      },
      "source": [
        "## 問4"
      ]
    },
    {
      "cell_type": "markdown",
      "metadata": {
        "id": "hNOdo6MCdUPU"
      },
      "source": [
        "skip"
      ]
    },
    {
      "cell_type": "markdown",
      "metadata": {
        "id": "aRyEF-JOdYXk"
      },
      "source": [
        "## 問5"
      ]
    },
    {
      "cell_type": "markdown",
      "metadata": {
        "id": "Bw_sp94OdadC"
      },
      "source": [
        "skip"
      ]
    },
    {
      "cell_type": "markdown",
      "metadata": {
        "id": "1atzovu6dhci"
      },
      "source": [
        "## 問6"
      ]
    },
    {
      "cell_type": "code",
      "metadata": {
        "id": "L2vPA0UTdjGv"
      },
      "source": [
        ""
      ],
      "execution_count": null,
      "outputs": []
    }
  ]
}