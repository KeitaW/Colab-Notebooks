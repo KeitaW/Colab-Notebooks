{
 "cells": [
  {
   "cell_type": "markdown",
   "metadata": {},
   "source": [
    "# P値についての議論"
   ]
  },
  {
   "cell_type": "markdown",
   "metadata": {},
   "source": [
    "ときたま左端に現れる灰色のバーは該当箇所が引用であることを示します．"
   ]
  },
  {
   "cell_type": "markdown",
   "metadata": {},
   "source": [
    "## アメリカ統計学会のp値に関する声明について\n",
    "\n",
    "[AMERICAN STATISTICAL ASSOCIATION RELEASES STATEMENT ON\n",
    "STATISTICAL SIGNIFICANCE AND P-VALUES ](http://www.amstat.org/asa/files/pdfs/P-ValueStatement.pdf)\n",
    "\n",
    "The ASA's Statement on p-Values: Context, Process, and Purpose. (2016). The ASA's Statement on p-Values: Context, Process, and Purpose. http://doi.org/10.1080/00031305.2016.1154108\n",
    "\n",
    "この声明はp値が，\n",
    "(以下[Tasaki J. Ozakiさんのブログから引用](http://tjo.hatenablog.com/entry/2016/03/08/190000))\n",
    "\n",
    "> * p値は「そのデータがある特定の統計モデルとどれくらい適合しないか」を示し得る\n",
    "* p値は「その仮説が真である確率」は与えないし「ランダムな偶然だけからそのデータが得られる確率」も与えない\n",
    "* 科学的結論及びビジネス・政策上の意思決定は「p値がある特定の閾値を切ったかどうか」だけに拠るべきではない\n",
    "* 適切な推論は完全な（データ及びモデルに関する）レポーティングと透明性を要するべきである\n",
    "* 単一のp値もしくは統計的有意性はその結果の効果や重要性の大きさを測るものではない\n",
    "* p値そのものだけではモデルや仮説に関するエビデンスの良い指標たり得ない\n",
    "\n",
    "といったものであるということを指摘するとともに(以下私訳)，"
   ]
  },
  {
   "cell_type": "markdown",
   "metadata": {},
   "source": [
    "p値を補完する，あるいは置き換える形で\n",
    "* confidence, credibility, prediction interval等の指標を強調する\n",
    "* likelifood ratio, bayes factor等と言ったベイズ的な手法を用いる\n",
    "* decision-theoretic modeling, false discovery rates等のその他の手法を用いる\n",
    "\n",
    "などが必要であることを述べるものである．"
   ]
  },
  {
   "cell_type": "markdown",
   "metadata": {},
   "source": [
    "## その他のp値に関する議論について"
   ]
  },
  {
   "cell_type": "markdown",
   "metadata": {},
   "source": [
    "* Halsey, L. G., Curran-Everett, D., Vowler, S. L., & Drummond, G. B. (2015). The fickle P value generates irreproducible results. Nature Methods, 12(3), 179–185. http://doi.org/10.1038/nmeth.3288: 関連する内容として．検定力が小さく，サンプル数が少ないときにp値が大きくばらつくことなどを述べている．一番の問題は，肝心の検定力を調べることがとても難しいということか(引用: Furthermore, in the real world, the power of a study is not known; at best it can be estimated. )．\n",
    "    > We suggest that, for this reason, the P value's preeminence is unjustified and arguments about null-hypothesis tests become virtually irrelevant. Researchers would do better to discard the P value and use alternative statistical measures for data interpretation.\n",
    "* Nuzzo, R. (2014). Scientific method: Statistical errors. Nature News, 506(7487), 150–152. http://doi.org/10.1038/506150: 関連する内容として．p値と偽陽性の問題についてより詳しく述べています．\n",
    "\n",
    "\n",
    "* Woolston, C. (2015). Psychology journal bans P values. Nature, 519(7541), 9–9. http://doi.org/10.1038/519009f: p値を掲載しないとした心理学系のJournalについて\n",
    "> Authors are still free to submit papers to BASP with P values and other statistical measures that form part of ‘null hypothesis significance testing’ (NHST), but the numbers will be removed before publication. \n",
    "\n",
    "    * Leek, J. T., & Peng, R. D. (2015). Statistics: P values are just the tip of the iceberg. Nature, 520(7549), 612–612. http://doi.org/10.1038/520612a: それに対するNature誌コメント\n",
    "\n",
    "    * Hewitt, C. L., Campbell, M. L., & Davidson, A. D. (2016). Deciphering P values: Beware false certainty. Science (New York, N.Y.), 353(6299), 551–551. http://doi.org/10.1126/science.aag3065: それに対するScience誌のLetter\n",
    "\n",
    "\n",
    "* Johnson, D. H. (1999). The Insignificance of Statistical Significance Testing. The Journal of Wildlife Management, 63(3), 763. http://doi.org/10.2307/3802789: 20年近く前から，この手の統計学的仮説検定に関する批判は存在した．主張はASAのものとほぼ同様なものと解する．(抄録 http://takenaka-akio.org/etc/stat_test/) 生態学分野\n"
   ]
  },
  {
   "cell_type": "markdown",
   "metadata": {},
   "source": [
    "* Carp, J. (2012). The secret lives of experiments: Methods reporting in the fMRI literature. NeuroImage, 63(1), 289–300. http://doi.org/10.1016/j.neuroimage.2012.07.004: 後述の鮭の論文．神経科学分野"
   ]
  },
  {
   "cell_type": "markdown",
   "metadata": {},
   "source": [
    "* Stephens, P. A., Buskirk, S. W., & del Rio, C. M. (2007). Inference in ecology and evolution. Trends in Ecology & Evolution, 22(4), 192–197. http://doi.org/10.1016/j.tree.2006.12.003: 環境学分野\n",
    "    > Unfortunately, when a suitably low P value is obtained from a test, researchers often interpret it to indicate that H0 is highly unlikely to be true. Cohen [14] explains why this is not the case. Much deductive reasoning rests on syllogisms, in which two unarguable premises (P1 and P2) lead to a deduced conclusion (C). Problems arise, however, when syllogisms are made probabilistic. For example, a probabilistic syllogism might be: (P1) if I have a lottery ticket, I am unlikely to win the lottery; (P2) I won the lottery; (C) I am unlikely to have had a lottery ticket. Although P1 is unarguable (given the low probability of winning the lottery), C does not follow from P1 and P2. However, in science, such a conclusion is routinely made when we use syllogisms of the form: (P1) if the null hypothesis is true, data Y are unlikely to be observed; (P2) data Y were observed; (C) the null hypothesis is unlikely to be true.\n",
    "    \n",
    "    >...\n",
    "    \n",
    "    >Alternatives to standard NHST include effect size statistics, model selection approaches based on information criteria (sometimes referred to as information theoretic or IT techniques), and Bayesian statistics"
   ]
  },
  {
   "cell_type": "markdown",
   "metadata": {},
   "source": [
    "* Gibbons, J. M., Crout, N. M. J., & Healey, J. R. (2007). What role should null-hypothesis significance tests have in statistical education and hypothesis falsification? Trends in Ecology & Evolution, 22(9), 445–446. http://doi.org/10.1016/j.tree.2007.06.006: 上記Opinionに対するCell Pressの反応\n",
    "    > ... suggest that much of the misunderstanding and misuse arises from the unintuitive and restrictive nature of NHSTs. The limitations of NHSTs have long been recognized but few alternatives were historically available (for example, see Ref. [6]). Developments in statistical theory (e.g. information theoretic criteria) and increases in computing power (enabling widespread application of Bayesian methods) now provide alternatives that are far less restrictive and more intuitive."
   ]
  },
  {
   "cell_type": "markdown",
   "metadata": {},
   "source": [
    "## その他p値のみを報告することの問題点とその対応策"
   ]
  },
  {
   "cell_type": "markdown",
   "metadata": {},
   "source": [
    "以下ではp値のみを報告した場合に起こりうる問題点とその対応策についてまとめる．"
   ]
  },
  {
   "cell_type": "markdown",
   "metadata": {},
   "source": [
    "### 基準率の誤り"
   ]
  },
  {
   "cell_type": "markdown",
   "metadata": {},
   "source": [
    "* [ダメな統計学 (5) p値と基準率の誤り](http://id.fnshr.info/2014/12/17/stats-done-wrong-05/)\n",
    "\n",
    "__基準率の誤り__: 検定される仮説がほとんど偽であるような場合（ex. sequence検出，マンモグラフィを用いた乳がん検査の例）においては，検出される統計的に優位な結果はほとんどが偽陽性である\n",
    "\n",
    ">「おそらく正しいだろう」と述べるためにp値を使う人がいたら、このことを思い出そう。そうした人の研究が誤っている確率は、ほとんど確実にぐんと高い。開発初期段階の薬の試験（こうした薬は試験を切り抜けることがほとんどない）のように、ほとんどの検定された仮説が偽となる分野においては、$p<0.05$となる「統計的に有意な」結果のほとんどが実際にはまぐれあたりである可能性が高い。\n",
    "\n",
    "\n",
    "また，この章ではfMRIを用いた画像提示とそれに反応する脳領域を調べる研究手法を用いて大西洋鮭の死骸からでも$p=0.001$となるような脳領域を発見できるという研究が紹介されている．ただし実際のfMRIの研究(シーケンス解析でも)ではこうした偽発見率を制御するテクニック（ボンフェロー二法）が用いられている．ただし，この種の多重比較に対する対応策は検定力の低下（本当は有意なものを取りこぼしてしまう）という別の問題を生じさせうる．\n"
   ]
  },
  {
   "cell_type": "markdown",
   "metadata": {},
   "source": [
    "### p値の大小と効果の大小の混同"
   ]
  },
  {
   "cell_type": "markdown",
   "metadata": {},
   "source": [
    "p値の大小は，効果の大きさについて何も述べていない -> 信頼区間を併記する．データが正規分布とみなせる場合は95%信頼区間は$\\pm$標準誤差に対応する．信頼区間が重なっていても統計的有意性が出る場合があることに注意"
   ]
  },
  {
   "cell_type": "markdown",
   "metadata": {},
   "source": [
    "### 「有意でない」という結果の解釈 [参考](http://tjo.hatenablog.com/entry/2014/02/24/192655)\n",
    "「帰無仮説が真であるから有意差が出なかった」のか「サンプルサイズが小さい」のか判断がつかない -> __効果量__を仮定し，そこから適切なサンプル数を求める．それに対してなお，ここでの議論では__検定力__は既知としている（多くの資料では天下り的に0.8としているものが多いがその理由は？一応分布を仮定した上で，シミュレーションを用いて推定する手法が[参考]上部スライドp21に紹介されている）．\n",
    "\n",
    "__効果量__: 平均値の差の検定の問題であれば (標本平均の差の絶対値) / (2群の標準偏差の平均) といった値．詳しくは[効果量についてのわかりやすい解説](http://www.mizumot.com/files/EffectSize_KELES31.pdf)参照\n",
    "\n",
    "[参考より](http://tjo.hatenablog.com/entry/2014/02/24/192655)\n",
    "> あらかじめ実験or測定する前から、想定される母集団に「○○ぐらいの大きさのeffect sizeがあるはずだ」という仮定を置く\n",
    "仮定したeffect sizeのもとで、最小限となるサンプルサイズを決定する\n",
    "そのサンプルサイズのもとで実験or測定し、対立仮説が採択されれば「○○ほどのeffect sizeを伴う効果があった」と推定する\n",
    "逆に帰無仮説が採択されれば「effect sizeが○○ほどなかった」と推定する （事前の分析 Aprioriと呼ばれる）\n",
    "\n",
    "\n",
    "逆にこの考え方を用いると，検定を実施した後にサンプルサイズ，効果量，有意水準（α）から検定力を確認することができる(事後の分析 Post hocと呼ばれる)．\n",
    "\n",
    "ただし，内部で使われている理論の詳細は未理解．必要に応じて[解説書](https://www.amazon.co.jp/gp/product/4254126654/ref=ox_sc_act_title_1?ie=UTF8&psc=1&smid=AN1VRQENFRJN5)参照\n",
    "\n",
    "\n",
    "また，ブラックボックスでよければ，ソフトウェアを使って求めることができる http://www.gpower.hhu.de/"
   ]
  },
  {
   "cell_type": "markdown",
   "metadata": {},
   "source": [
    "## Bayesianな代替手法"
   ]
  },
  {
   "cell_type": "markdown",
   "metadata": {},
   "source": [
    "* Kruschke, J. K. (2013). Bayesian estimation supersedes the t test. Journal of Experimental Psychology: General, 142(2), 573–603. http://doi.org/10.1037/a0029146\n",
    "t-testの代替を目指したベイジアン統計モデリング．\n",
    "* Iuculano, T., Rosenberg-Lee, M., Richardson, J., Tenison, C., Fuchs, L., Supekar, K., & Menon, V. (2015). Cognitive tutoring induces widespread neuroplasticity and remediates brain function in children with mathematical learning disabilities. Nature Communications, 6, 8453. http://doi.org/10.1038/ncomms9453: 上記手法を実際に用いている研究\n",
    "\n",
    "[pymc3ライブラリを用いた実装例](https://pymc-devs.github.io/pymc3/notebooks/BEST.html)\n",
    "\n",
    "参考[ベイズ主義による研究の報告方法](https://www.slideshare.net/masarutokuoka/140610-35612411)"
   ]
  }
 ],
 "metadata": {
  "kernelspec": {
   "display_name": "Python 3",
   "language": "python",
   "name": "python3"
  },
  "language_info": {
   "codemirror_mode": {
    "name": "ipython",
    "version": 3
   },
   "file_extension": ".py",
   "mimetype": "text/x-python",
   "name": "python",
   "nbconvert_exporter": "python",
   "pygments_lexer": "ipython3",
   "version": "3.5.2"
  },
  "toc": {
   "nav_menu": {
    "height": "179px",
    "width": "252px"
   },
   "navigate_menu": true,
   "number_sections": false,
   "sideBar": true,
   "threshold": 4,
   "toc_cell": false,
   "toc_section_display": "block",
   "toc_window_display": false
  }
 },
 "nbformat": 4,
 "nbformat_minor": 0
}
