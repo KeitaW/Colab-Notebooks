{
  "nbformat": 4,
  "nbformat_minor": 0,
  "metadata": {
    "colab": {
      "name": "210425beer.ipynb",
      "provenance": [],
      "collapsed_sections": [],
      "authorship_tag": "ABX9TyNqA4I1d4wGZzuUZ1RjHzPj",
      "include_colab_link": true
    },
    "kernelspec": {
      "name": "python3",
      "display_name": "Python 3"
    },
    "language_info": {
      "name": "python"
    }
  },
  "cells": [
    {
      "cell_type": "markdown",
      "metadata": {
        "id": "view-in-github",
        "colab_type": "text"
      },
      "source": [
        "<a href=\"https://colab.research.google.com/github/KeitaW/Colab-Notebooks/blob/master/210425beer.ipynb\" target=\"_parent\"><img src=\"https://colab.research.google.com/assets/colab-badge.svg\" alt=\"Open In Colab\"/></a>"
      ]
    },
    {
      "cell_type": "markdown",
      "metadata": {
        "id": "VCIrZNFoTt7L"
      },
      "source": [
        "https://www3.cuc.ac.jp/~nagaoka/2012/ouyou/08/beer/index.html より"
      ]
    },
    {
      "cell_type": "code",
      "metadata": {
        "id": "ISIw2ffVTyXX"
      },
      "source": [
        "import pandas as pd\n",
        "import seaborn as sns"
      ],
      "execution_count": 6,
      "outputs": []
    },
    {
      "cell_type": "code",
      "metadata": {
        "colab": {
          "base_uri": "https://localhost:8080/",
          "height": 737
        },
        "id": "Hm69crteKCXH",
        "outputId": "b378feec-afac-4f1a-8a46-83f6a6defab9"
      },
      "source": [
        " beer = pd.DataFrame({\n",
        "    \"date\": [\"2009/01\", \"2009/02\", \"2009/03\", \"2009/04\", \"2009/05\", \"2009/06\", \"2009/07\", \"2009/08\", \"2009/09\", \"2009/10\", \"2009/11\", \"2009/12\", \"2010/01\", \"2010/02\", \"2010/03\", \"2010/04\", \"2010/05\", \"2010/06\", \"2010/07\", \"2010/08\", \"2010/09\", \"2010/10\", \"2010/11\", \"2010/12\"],\n",
        "    \"temperature\": [6.8, 7.8, 10.0, 15.7, 20.1, 22.5, 26.3, 26.6, 23.0, 19.0, 13.5, 9.0, 7.0, 6.5, 9.1, 12.4, 19.0, 23.6, 28.0, 29.6, 25.1, 18.9, 13.5, 9.9],\n",
        "    \"sales volume\": [5107, 7267, 8706, 10170, 9760, 12001, 12980, 11939, 9175, 9177, 9066, 15626, 4693, 6426, 8661, 9769, 8655, 12370, 12678, 11740, 9160, 8370, 9494, 14638]\n",
        "})\n",
        "beer"
      ],
      "execution_count": 7,
      "outputs": [
        {
          "output_type": "execute_result",
          "data": {
            "text/html": [
              "<div>\n",
              "<style scoped>\n",
              "    .dataframe tbody tr th:only-of-type {\n",
              "        vertical-align: middle;\n",
              "    }\n",
              "\n",
              "    .dataframe tbody tr th {\n",
              "        vertical-align: top;\n",
              "    }\n",
              "\n",
              "    .dataframe thead th {\n",
              "        text-align: right;\n",
              "    }\n",
              "</style>\n",
              "<table border=\"1\" class=\"dataframe\">\n",
              "  <thead>\n",
              "    <tr style=\"text-align: right;\">\n",
              "      <th></th>\n",
              "      <th>date</th>\n",
              "      <th>temperature</th>\n",
              "      <th>sales volume</th>\n",
              "    </tr>\n",
              "  </thead>\n",
              "  <tbody>\n",
              "    <tr>\n",
              "      <th>0</th>\n",
              "      <td>2009/01</td>\n",
              "      <td>6.8</td>\n",
              "      <td>5107</td>\n",
              "    </tr>\n",
              "    <tr>\n",
              "      <th>1</th>\n",
              "      <td>2009/02</td>\n",
              "      <td>7.8</td>\n",
              "      <td>7267</td>\n",
              "    </tr>\n",
              "    <tr>\n",
              "      <th>2</th>\n",
              "      <td>2009/03</td>\n",
              "      <td>10.0</td>\n",
              "      <td>8706</td>\n",
              "    </tr>\n",
              "    <tr>\n",
              "      <th>3</th>\n",
              "      <td>2009/04</td>\n",
              "      <td>15.7</td>\n",
              "      <td>10170</td>\n",
              "    </tr>\n",
              "    <tr>\n",
              "      <th>4</th>\n",
              "      <td>2009/05</td>\n",
              "      <td>20.1</td>\n",
              "      <td>9760</td>\n",
              "    </tr>\n",
              "    <tr>\n",
              "      <th>5</th>\n",
              "      <td>2009/06</td>\n",
              "      <td>22.5</td>\n",
              "      <td>12001</td>\n",
              "    </tr>\n",
              "    <tr>\n",
              "      <th>6</th>\n",
              "      <td>2009/07</td>\n",
              "      <td>26.3</td>\n",
              "      <td>12980</td>\n",
              "    </tr>\n",
              "    <tr>\n",
              "      <th>7</th>\n",
              "      <td>2009/08</td>\n",
              "      <td>26.6</td>\n",
              "      <td>11939</td>\n",
              "    </tr>\n",
              "    <tr>\n",
              "      <th>8</th>\n",
              "      <td>2009/09</td>\n",
              "      <td>23.0</td>\n",
              "      <td>9175</td>\n",
              "    </tr>\n",
              "    <tr>\n",
              "      <th>9</th>\n",
              "      <td>2009/10</td>\n",
              "      <td>19.0</td>\n",
              "      <td>9177</td>\n",
              "    </tr>\n",
              "    <tr>\n",
              "      <th>10</th>\n",
              "      <td>2009/11</td>\n",
              "      <td>13.5</td>\n",
              "      <td>9066</td>\n",
              "    </tr>\n",
              "    <tr>\n",
              "      <th>11</th>\n",
              "      <td>2009/12</td>\n",
              "      <td>9.0</td>\n",
              "      <td>15626</td>\n",
              "    </tr>\n",
              "    <tr>\n",
              "      <th>12</th>\n",
              "      <td>2010/01</td>\n",
              "      <td>7.0</td>\n",
              "      <td>4693</td>\n",
              "    </tr>\n",
              "    <tr>\n",
              "      <th>13</th>\n",
              "      <td>2010/02</td>\n",
              "      <td>6.5</td>\n",
              "      <td>6426</td>\n",
              "    </tr>\n",
              "    <tr>\n",
              "      <th>14</th>\n",
              "      <td>2010/03</td>\n",
              "      <td>9.1</td>\n",
              "      <td>8661</td>\n",
              "    </tr>\n",
              "    <tr>\n",
              "      <th>15</th>\n",
              "      <td>2010/04</td>\n",
              "      <td>12.4</td>\n",
              "      <td>9769</td>\n",
              "    </tr>\n",
              "    <tr>\n",
              "      <th>16</th>\n",
              "      <td>2010/05</td>\n",
              "      <td>19.0</td>\n",
              "      <td>8655</td>\n",
              "    </tr>\n",
              "    <tr>\n",
              "      <th>17</th>\n",
              "      <td>2010/06</td>\n",
              "      <td>23.6</td>\n",
              "      <td>12370</td>\n",
              "    </tr>\n",
              "    <tr>\n",
              "      <th>18</th>\n",
              "      <td>2010/07</td>\n",
              "      <td>28.0</td>\n",
              "      <td>12678</td>\n",
              "    </tr>\n",
              "    <tr>\n",
              "      <th>19</th>\n",
              "      <td>2010/08</td>\n",
              "      <td>29.6</td>\n",
              "      <td>11740</td>\n",
              "    </tr>\n",
              "    <tr>\n",
              "      <th>20</th>\n",
              "      <td>2010/09</td>\n",
              "      <td>25.1</td>\n",
              "      <td>9160</td>\n",
              "    </tr>\n",
              "    <tr>\n",
              "      <th>21</th>\n",
              "      <td>2010/10</td>\n",
              "      <td>18.9</td>\n",
              "      <td>8370</td>\n",
              "    </tr>\n",
              "    <tr>\n",
              "      <th>22</th>\n",
              "      <td>2010/11</td>\n",
              "      <td>13.5</td>\n",
              "      <td>9494</td>\n",
              "    </tr>\n",
              "    <tr>\n",
              "      <th>23</th>\n",
              "      <td>2010/12</td>\n",
              "      <td>9.9</td>\n",
              "      <td>14638</td>\n",
              "    </tr>\n",
              "  </tbody>\n",
              "</table>\n",
              "</div>"
            ],
            "text/plain": [
              "       date  temperature  sales volume\n",
              "0   2009/01          6.8          5107\n",
              "1   2009/02          7.8          7267\n",
              "2   2009/03         10.0          8706\n",
              "3   2009/04         15.7         10170\n",
              "4   2009/05         20.1          9760\n",
              "5   2009/06         22.5         12001\n",
              "6   2009/07         26.3         12980\n",
              "7   2009/08         26.6         11939\n",
              "8   2009/09         23.0          9175\n",
              "9   2009/10         19.0          9177\n",
              "10  2009/11         13.5          9066\n",
              "11  2009/12          9.0         15626\n",
              "12  2010/01          7.0          4693\n",
              "13  2010/02          6.5          6426\n",
              "14  2010/03          9.1          8661\n",
              "15  2010/04         12.4          9769\n",
              "16  2010/05         19.0          8655\n",
              "17  2010/06         23.6         12370\n",
              "18  2010/07         28.0         12678\n",
              "19  2010/08         29.6         11740\n",
              "20  2010/09         25.1          9160\n",
              "21  2010/10         18.9          8370\n",
              "22  2010/11         13.5          9494\n",
              "23  2010/12          9.9         14638"
            ]
          },
          "metadata": {
            "tags": []
          },
          "execution_count": 7
        }
      ]
    },
    {
      "cell_type": "code",
      "metadata": {
        "colab": {
          "base_uri": "https://localhost:8080/",
          "height": 297
        },
        "id": "SuJGmycsUaej",
        "outputId": "8c66463e-bc0d-4294-b365-66369cd94e6b"
      },
      "source": [
        "sns.regplot(x=\"temperature\", y=\"sales volume\", data=beer)"
      ],
      "execution_count": 8,
      "outputs": [
        {
          "output_type": "execute_result",
          "data": {
            "text/plain": [
              "<matplotlib.axes._subplots.AxesSubplot at 0x7ffaa7a84e50>"
            ]
          },
          "metadata": {
            "tags": []
          },
          "execution_count": 8
        },
        {
          "output_type": "display_data",
          "data": {
            "image/png": "[encoded data removed]",
            "text/plain": [
              "<Figure size 432x288 with 1 Axes>"
            ]
          },
          "metadata": {
            "tags": [],
            "needs_background": "light"
          }
        }
      ]
    },
    {
      "cell_type": "code",
      "metadata": {
        "id": "CYfBm9b4Uj9O"
      },
      "source": [
        ""
      ],
      "execution_count": null,
      "outputs": []
    }
  ]
}